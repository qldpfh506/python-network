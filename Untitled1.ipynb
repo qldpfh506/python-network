{
 "cells": [
  {
   "cell_type": "code",
   "execution_count": 4,
   "metadata": {},
   "outputs": [],
   "source": [
    "from scapy.all import *\n",
    "import sys\n",
    "\n",
    "src = \"220.73.134.140\"\n",
    "pcap_file = \"dl_test.pcap\"\n",
    "pcap = rdpcap(pcap_file)\n",
    "\n",
    "data = \"\"\n",
    "for packet in pcap:\n",
    "    ilayer = packet.getlayer(\"IP\")\n",
    "    if ilayer.src != src:\n",
    "        continue\n",
    "    tlayer = packet.getlayer(\"TCP\")\n",
    "    if packet.getlayer(\"Raw\"):\n",
    "        data += str(tlayer.payload)\n",
    "f = open(\"raw_data.dat\",'w')\n",
    "f.write(data)\n",
    "f.close()"
   ]
  },
  {
   "cell_type": "code",
   "execution_count": null,
   "metadata": {},
   "outputs": [],
   "source": []
  },
  {
   "cell_type": "code",
   "execution_count": null,
   "metadata": {},
   "outputs": [],
   "source": []
  },
  {
   "cell_type": "code",
   "execution_count": null,
   "metadata": {},
   "outputs": [],
   "source": []
  }
 ],
 "metadata": {
  "kernelspec": {
   "display_name": "Python 3",
   "language": "python",
   "name": "python3"
  },
  "language_info": {
   "codemirror_mode": {
    "name": "ipython",
    "version": 3
   },
   "file_extension": ".py",
   "mimetype": "text/x-python",
   "name": "python",
   "nbconvert_exporter": "python",
   "pygments_lexer": "ipython3",
   "version": "3.4.2"
  }
 },
 "nbformat": 4,
 "nbformat_minor": 2
}

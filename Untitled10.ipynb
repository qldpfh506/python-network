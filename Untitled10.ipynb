{
 "cells": [
  {
   "cell_type": "code",
   "execution_count": 28,
   "metadata": {},
   "outputs": [
    {
     "ename": "SyntaxError",
     "evalue": "invalid syntax (<ipython-input-28-574a8f6ab187>, line 29)",
     "output_type": "error",
     "traceback": [
      "\u001b[0;36m  File \u001b[0;32m\"<ipython-input-28-574a8f6ab187>\"\u001b[0;36m, line \u001b[0;32m29\u001b[0m\n\u001b[0;31m    magic = data.read(4).encode(self.'hex')\u001b[0m\n\u001b[0m                                         ^\u001b[0m\n\u001b[0;31mSyntaxError\u001b[0m\u001b[0;31m:\u001b[0m invalid syntax\n"
     ]
    }
   ],
   "source": [
    "from scapy.all import *\n",
    "from struct import *\n",
    "from pcapfile import savefile\n",
    "from binascii import hexlify\n",
    "\n",
    "import re\n",
    "import zlib\n",
    "import geoip2.database\n",
    "import os, subprocess\n",
    "import optparse, zipfile, sys\n",
    "import xml.etree.ElementTree as ET\n",
    "import socket\n",
    "import dpkt\n",
    "import binascii\n",
    "\n",
    "data = './dl_test.pcap'\n",
    "a = rdpcap(data)\n",
    "\n",
    "#packet data\n",
    "def display():\n",
    "    print(\"\\t[-]  TYPE : {}\", format(protocol))\n",
    "    print(\"\\t[-] MAC : {} ------> {}\", format(smac, dmac))\n",
    "    print(\"\\t[-] LEN : {}\", format(int(total_len,16)))\n",
    "    print(\"\\t[-] TTL : {}\", format(int(ttl,16)))\n",
    "    print(\"\\t[-] IP : {} ------> {}\", format(sip, dip))\n",
    "    print(\"\\t[-] PORT : {} ------> {}\", format(int(sport,16), int(dport, 16)))\n",
    "    \n",
    "with open(data,'rb') as data:\n",
    "    magic = data.read(4).encode(self.'hex')\n",
    "    flag = (False, True)[magic == 'd4c3b2a1']\n",
    "    data.seek(36,1)\n",
    "    dmac = data.read(6).encode('hex')\n",
    "    smac = data.read(6).encode('hex')\n",
    "    type = data.read(2).encode('hex')\n",
    "    type = (\"IPv6\", \"IPv4\")[type==\"0800\"]\n",
    "    \n",
    "    if flag==True:\n",
    "        print (\"[+] Start parsing : {}\", format(data))\n",
    "        \n",
    "        if type==\"0800\":\n",
    "            p.seek(2,1) ; total_len = p.read(2).priv.hex()\n",
    "            p.seek(4,1) ; ttl = p.read(1).encode('hex')\n",
    "            protocol = p.read(1).encode('hex')\n",
    "            protocol = (\"\",\"TCP\")[protocol==\"06\"]\n",
    "            \n",
    "            p.seek(2,1)\n",
    "            sip = p.read(4)\n",
    "            dip = p.read(4)\n",
    "            sport = p.read(2)\n",
    "            dport = p.read(2)\n",
    "            \n",
    "            ip_divide = range(0,8,2); mac_divide = range(0,12,2)\n",
    "            sip = '.'.join([str(int(sip[a:a+2])) for a in ip_divide])\n",
    "            dip = '.'.join([str(int(sip[b:b+2])) for b in ip_divide])\n",
    "            smac = '.'.join([str((smac[c:c+2])) for c in ip_divide])\n",
    "            dmac = '.'.join([str((dmac[d:d+2])) for d in ip_divide])\n",
    "            \n",
    "            display()\n",
    "        \n",
    "        elif type==\"8600\":\n",
    "            print(\"\\t[-] It is IPv6 Packet\")\n",
    "    \n",
    "    elif flag==False:\n",
    "        print(\"[-] {} is not pcap file\".format(data))\n",
    "        \n",
    "\n",
    "        \n"
   ]
  },
  {
   "cell_type": "code",
   "execution_count": null,
   "metadata": {},
   "outputs": [],
   "source": []
  },
  {
   "cell_type": "code",
   "execution_count": null,
   "metadata": {},
   "outputs": [],
   "source": []
  }
 ],
 "metadata": {
  "kernelspec": {
   "display_name": "Python 3",
   "language": "python",
   "name": "python3"
  },
  "language_info": {
   "codemirror_mode": {
    "name": "ipython",
    "version": 3
   },
   "file_extension": ".py",
   "mimetype": "text/x-python",
   "name": "python",
   "nbconvert_exporter": "python",
   "pygments_lexer": "ipython3",
   "version": "3.4.2"
  }
 },
 "nbformat": 4,
 "nbformat_minor": 2
}

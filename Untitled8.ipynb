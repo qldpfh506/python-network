{
 "cells": [
  {
   "cell_type": "code",
   "execution_count": 10,
   "metadata": {},
   "outputs": [
    {
     "ename": "AttributeError",
     "evalue": "'HTTPRequestHeader' object has no attribute 'headers'",
     "output_type": "error",
     "traceback": [
      "\u001b[0;31m---------------------------------------------------------------------------\u001b[0m",
      "\u001b[0;31mAttributeError\u001b[0m                            Traceback (most recent call last)",
      "\u001b[0;32m<ipython-input-10-27f59c5ee3a0>\u001b[0m in \u001b[0;36m<module>\u001b[0;34m()\u001b[0m\n\u001b[1;32m     62\u001b[0m \u001b[0;32mif\u001b[0m \u001b[0m__name__\u001b[0m \u001b[0;34m==\u001b[0m \u001b[0;34m'__main__'\u001b[0m\u001b[0;34m:\u001b[0m\u001b[0;34m\u001b[0m\u001b[0m\n\u001b[1;32m     63\u001b[0m     \u001b[0mrequest_header\u001b[0m \u001b[0;34m=\u001b[0m \u001b[0mHTTPRequestHeader\u001b[0m\u001b[0;34m(\u001b[0m\u001b[0;34m\"./\"\u001b[0m\u001b[0;34m)\u001b[0m\u001b[0;34m\u001b[0m\u001b[0m\n\u001b[0;32m---> 64\u001b[0;31m     \u001b[0mprint\u001b[0m\u001b[0;34m(\u001b[0m\u001b[0mrequest_header\u001b[0m\u001b[0;34m.\u001b[0m\u001b[0mhost\u001b[0m\u001b[0;34m)\u001b[0m\u001b[0;34m\u001b[0m\u001b[0m\n\u001b[0m\u001b[1;32m     65\u001b[0m     \u001b[0mprint\u001b[0m\u001b[0;34m(\u001b[0m\u001b[0mrequest_header\u001b[0m\u001b[0;34m.\u001b[0m\u001b[0mpath\u001b[0m\u001b[0;34m)\u001b[0m\u001b[0;34m\u001b[0m\u001b[0m\n\u001b[1;32m     66\u001b[0m     \u001b[0mprint\u001b[0m\u001b[0;34m(\u001b[0m\u001b[0mrequest_header\u001b[0m\u001b[0;34m.\u001b[0m\u001b[0mquery_string\u001b[0m\u001b[0;34m)\u001b[0m\u001b[0;34m\u001b[0m\u001b[0m\n",
      "\u001b[0;32m<ipython-input-10-27f59c5ee3a0>\u001b[0m in \u001b[0;36mhost\u001b[0;34m(self)\u001b[0m\n\u001b[1;32m     44\u001b[0m     \u001b[0;34m@\u001b[0m\u001b[0mproperty\u001b[0m\u001b[0;34m\u001b[0m\u001b[0m\n\u001b[1;32m     45\u001b[0m     \u001b[0;32mdef\u001b[0m \u001b[0mhost\u001b[0m\u001b[0;34m(\u001b[0m\u001b[0mself\u001b[0m\u001b[0;34m)\u001b[0m\u001b[0;34m:\u001b[0m\u001b[0;34m\u001b[0m\u001b[0m\n\u001b[0;32m---> 46\u001b[0;31m         \u001b[0;32mreturn\u001b[0m \u001b[0mself\u001b[0m\u001b[0;34m.\u001b[0m\u001b[0mheaders\u001b[0m\u001b[0;34m.\u001b[0m\u001b[0mget\u001b[0m\u001b[0;34m(\u001b[0m\u001b[0;34m'host'\u001b[0m\u001b[0;34m)\u001b[0m\u001b[0;34m\u001b[0m\u001b[0m\n\u001b[0m\u001b[1;32m     47\u001b[0m \u001b[0;34m\u001b[0m\u001b[0m\n\u001b[1;32m     48\u001b[0m     \u001b[0;34m@\u001b[0m\u001b[0mproperty\u001b[0m\u001b[0;34m\u001b[0m\u001b[0m\n",
      "\u001b[0;31mAttributeError\u001b[0m: 'HTTPRequestHeader' object has no attribute 'headers'"
     ]
    }
   ],
   "source": [
    "import os\n",
    "from io import BytesIO\n",
    "import urllib\n",
    "from http.server import BaseHTTPRequestHandler\n",
    "\n",
    "class HTTPRequestHeader(BaseHTTPRequestHandler):\n",
    "    __query_string = None\n",
    "    __http_header_dir = None\n",
    "\n",
    "    def __init__(self, http_header_dir):\n",
    "        self.__http_header_dir = http_header_dir\n",
    "        self.__read_header()\n",
    "\n",
    "    def __read_header(self):\n",
    "        header_file = os.path.join(self.__http_header_dir, './dl_test.pcap')\n",
    "        \n",
    "        try:\n",
    "            if os.path.exists(header_file):\n",
    "                with open(header_file, 'rb') as fd:\n",
    "                    self.rfile = fd\n",
    "                    self.error_code = self.error_message = None\n",
    "                    self.raw_requestline = self.rfile.readline()\n",
    "                    self.parse_request()\n",
    "                    self.parser_query_string()\n",
    "                    self.send_header(\"REQUEST_METHOD\", \"POST\")\n",
    "            else:\n",
    "                print(\"Http Request - Read Header {0}\".format(header_file))\n",
    "                \n",
    "        except IOError as e:\n",
    "            print(\"Http Request - Read Header {0}\".format(e))\n",
    "            \n",
    "\n",
    "    def parser_query_string(self):\n",
    "        try:\n",
    "            q_string = self.path.split(\"?\")[1]\n",
    "            self.query_string = urllib.parse.parse_qs(q_string)\n",
    "        except Exception as e:\n",
    "            pass\n",
    "\n",
    "    def send_error(self, code, message):\n",
    "        self.error_code = code\n",
    "        self.error_message = message\n",
    "\n",
    "    @property\n",
    "    def host(self):\n",
    "        return self.headers.get('host')\n",
    "\n",
    "    @property\n",
    "    def query_string(self):\n",
    "        return self.__query_string\n",
    "\n",
    "    @query_string.setter\n",
    "    def query_string(self, val):\n",
    "        self.__query_string = val\n",
    "\n",
    "    @property\n",
    "    def method(self):\n",
    "        return self.command \n",
    "\n",
    "\n",
    "\n",
    "if __name__ == '__main__':\n",
    "    request_header = HTTPRequestHeader(\"./\")\n",
    "    print(request_header.host)\n",
    "    print(request_header.path)\n",
    "    print(request_header.query_string)\n",
    "    print(request_header.method)\n",
    "   "
   ]
  },
  {
   "cell_type": "code",
   "execution_count": null,
   "metadata": {},
   "outputs": [],
   "source": []
  }
 ],
 "metadata": {
  "kernelspec": {
   "display_name": "Python 3",
   "language": "python",
   "name": "python3"
  },
  "language_info": {
   "codemirror_mode": {
    "name": "ipython",
    "version": 3
   },
   "file_extension": ".py",
   "mimetype": "text/x-python",
   "name": "python",
   "nbconvert_exporter": "python",
   "pygments_lexer": "ipython3",
   "version": "3.4.2"
  }
 },
 "nbformat": 4,
 "nbformat_minor": 2
}

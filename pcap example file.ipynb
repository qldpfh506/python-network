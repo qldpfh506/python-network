{
 "cells": [
  {
   "cell_type": "code",
   "execution_count": 5,
   "metadata": {},
   "outputs": [
    {
     "name": "stdout",
     "output_type": "stream",
     "text": [
      "No ARP\n",
      "No ARP\n",
      "No ARP\n",
      "No ARP\n",
      "No ARP\n",
      "No ARP\n",
      "No ARP\n",
      "No ARP\n",
      "No ARP\n",
      "No ARP\n",
      "No ARP\n",
      "No ARP\n",
      "No ARP\n",
      "No ARP\n",
      "No ARP\n",
      "No ARP\n",
      "29 /  45 ARP packets found.\n"
     ]
    }
   ],
   "source": [
    "from scapy.all import *\n",
    "\n",
    "arps = []\n",
    "pcap_data = rdpcap(\"test_arp.pcap\")\n",
    "\n",
    "n_total = 0\n",
    "\n",
    "for pkg in pcap_data:\n",
    "    ip_layer = pkg.getlayer(\"ARP\")\n",
    "    n_total = n_total +1\n",
    "    \n",
    "    if ip_layer == None:\n",
    "        print (\"No ARP\")\n",
    "        continue\n",
    "        \n",
    "    arps.append(pkg)\n",
    "    \n",
    "print(\"%02d / % 02d ARP packets found.\" % (len(arps), n_total))"
   ]
  },
  {
   "cell_type": "code",
   "execution_count": null,
   "metadata": {},
   "outputs": [],
   "source": [
    "\n"
   ]
  }
 ],
 "metadata": {
  "kernelspec": {
   "display_name": "Python 3",
   "language": "python",
   "name": "python3"
  },
  "language_info": {
   "codemirror_mode": {
    "name": "ipython",
    "version": 3
   },
   "file_extension": ".py",
   "mimetype": "text/x-python",
   "name": "python",
   "nbconvert_exporter": "python",
   "pygments_lexer": "ipython3",
   "version": "3.4.2"
  }
 },
 "nbformat": 4,
 "nbformat_minor": 2
}
